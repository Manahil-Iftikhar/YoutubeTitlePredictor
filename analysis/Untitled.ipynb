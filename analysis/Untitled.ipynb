{
 "cells": [
  {
   "cell_type": "code",
   "execution_count": 7,
   "id": "715b2a89-992f-4c21-a5f8-6283ad6ca38d",
   "metadata": {},
   "outputs": [],
   "source": [
    "import pandas as pd"
   ]
  },
  {
   "cell_type": "code",
   "execution_count": 14,
   "id": "fdae8418-b7ad-4800-9afe-907289473b50",
   "metadata": {},
   "outputs": [],
   "source": [
    "df = pd.read_csv('./youtube_video_data.csv')"
   ]
  },
  {
   "cell_type": "code",
   "execution_count": 16,
   "id": "3983441f-1a29-48a7-85f3-a45e3279ca14",
   "metadata": {},
   "outputs": [
    {
     "data": {
      "text/html": [
       "<div>\n",
       "<style scoped>\n",
       "    .dataframe tbody tr th:only-of-type {\n",
       "        vertical-align: middle;\n",
       "    }\n",
       "\n",
       "    .dataframe tbody tr th {\n",
       "        vertical-align: top;\n",
       "    }\n",
       "\n",
       "    .dataframe thead th {\n",
       "        text-align: right;\n",
       "    }\n",
       "</style>\n",
       "<table border=\"1\" class=\"dataframe\">\n",
       "  <thead>\n",
       "    <tr style=\"text-align: right;\">\n",
       "      <th></th>\n",
       "      <th>Title</th>\n",
       "      <th>Description</th>\n",
       "      <th>Tags</th>\n",
       "      <th>View Count</th>\n",
       "      <th>Like Count</th>\n",
       "      <th>Comment Count</th>\n",
       "      <th>Video URL</th>\n",
       "    </tr>\n",
       "  </thead>\n",
       "  <tbody>\n",
       "    <tr>\n",
       "      <th>0</th>\n",
       "      <td>HTML Tutorial for Beginners | Complete HTML wi...</td>\n",
       "      <td>Notes - https://drive.google.com/drive/folders...</td>\n",
       "      <td>['html', 'html tutorial', 'css', 'web developm...</td>\n",
       "      <td>17648916</td>\n",
       "      <td>367553</td>\n",
       "      <td>18019</td>\n",
       "      <td>https://www.youtube.com/watch?v=HcOc7P5BMi4</td>\n",
       "    </tr>\n",
       "    <tr>\n",
       "      <th>1</th>\n",
       "      <td>HTML Tutorial for Beginners: HTML Crash Course</td>\n",
       "      <td>Start your web development career with HTML! 🌐...</td>\n",
       "      <td>['html tutorial', 'html5 tutorial', 'html', 'h...</td>\n",
       "      <td>9002591</td>\n",
       "      <td>203853</td>\n",
       "      <td>5440</td>\n",
       "      <td>https://www.youtube.com/watch?v=qz0aGYrrlhU</td>\n",
       "    </tr>\n",
       "    <tr>\n",
       "      <th>2</th>\n",
       "      <td>Squares | HTML CSS</td>\n",
       "      <td>#shorts #html #css #tutorials #trending \\nSour...</td>\n",
       "      <td>[]</td>\n",
       "      <td>2078578</td>\n",
       "      <td>101524</td>\n",
       "      <td>629</td>\n",
       "      <td>https://www.youtube.com/watch?v=RlFmSQq8IsA</td>\n",
       "    </tr>\n",
       "    <tr>\n",
       "      <th>3</th>\n",
       "      <td>HTML &amp; CSS Full Course - Beginner to Pro</td>\n",
       "      <td>Certificates are now available! https://course...</td>\n",
       "      <td>['html', 'css', 'tutorial', 'course', 'full co...</td>\n",
       "      <td>12091849</td>\n",
       "      <td>234404</td>\n",
       "      <td>12655</td>\n",
       "      <td>https://www.youtube.com/watch?v=G3e-cpL7ofc</td>\n",
       "    </tr>\n",
       "    <tr>\n",
       "      <th>4</th>\n",
       "      <td>HTML Tutorial for Beginners</td>\n",
       "      <td>In this step-by-step tutorial, learn how to cr...</td>\n",
       "      <td>['kevin stratvert']</td>\n",
       "      <td>733466</td>\n",
       "      <td>17918</td>\n",
       "      <td>572</td>\n",
       "      <td>https://www.youtube.com/watch?v=FQdaUv95mR8</td>\n",
       "    </tr>\n",
       "  </tbody>\n",
       "</table>\n",
       "</div>"
      ],
      "text/plain": [
       "                                               Title  \\\n",
       "0  HTML Tutorial for Beginners | Complete HTML wi...   \n",
       "1     HTML Tutorial for Beginners: HTML Crash Course   \n",
       "2                                 Squares | HTML CSS   \n",
       "3           HTML & CSS Full Course - Beginner to Pro   \n",
       "4                        HTML Tutorial for Beginners   \n",
       "\n",
       "                                         Description  \\\n",
       "0  Notes - https://drive.google.com/drive/folders...   \n",
       "1  Start your web development career with HTML! 🌐...   \n",
       "2  #shorts #html #css #tutorials #trending \\nSour...   \n",
       "3  Certificates are now available! https://course...   \n",
       "4  In this step-by-step tutorial, learn how to cr...   \n",
       "\n",
       "                                                Tags  View Count  Like Count  \\\n",
       "0  ['html', 'html tutorial', 'css', 'web developm...    17648916      367553   \n",
       "1  ['html tutorial', 'html5 tutorial', 'html', 'h...     9002591      203853   \n",
       "2                                                 []     2078578      101524   \n",
       "3  ['html', 'css', 'tutorial', 'course', 'full co...    12091849      234404   \n",
       "4                                ['kevin stratvert']      733466       17918   \n",
       "\n",
       "   Comment Count                                    Video URL  \n",
       "0          18019  https://www.youtube.com/watch?v=HcOc7P5BMi4  \n",
       "1           5440  https://www.youtube.com/watch?v=qz0aGYrrlhU  \n",
       "2            629  https://www.youtube.com/watch?v=RlFmSQq8IsA  \n",
       "3          12655  https://www.youtube.com/watch?v=G3e-cpL7ofc  \n",
       "4            572  https://www.youtube.com/watch?v=FQdaUv95mR8  "
      ]
     },
     "execution_count": 16,
     "metadata": {},
     "output_type": "execute_result"
    }
   ],
   "source": [
    "df.head()"
   ]
  },
  {
   "cell_type": "code",
   "execution_count": 22,
   "id": "f8977ca7-a50b-461b-a73b-e85fcb8fd14c",
   "metadata": {},
   "outputs": [],
   "source": [
    "df1= pd.read_csv('./trending_videos_metadata.csv')"
   ]
  },
  {
   "cell_type": "code",
   "execution_count": 24,
   "id": "e7d052a6-990a-4746-82c6-63de854dc471",
   "metadata": {},
   "outputs": [
    {
     "data": {
      "text/html": [
       "<div>\n",
       "<style scoped>\n",
       "    .dataframe tbody tr th:only-of-type {\n",
       "        vertical-align: middle;\n",
       "    }\n",
       "\n",
       "    .dataframe tbody tr th {\n",
       "        vertical-align: top;\n",
       "    }\n",
       "\n",
       "    .dataframe thead th {\n",
       "        text-align: right;\n",
       "    }\n",
       "</style>\n",
       "<table border=\"1\" class=\"dataframe\">\n",
       "  <thead>\n",
       "    <tr style=\"text-align: right;\">\n",
       "      <th></th>\n",
       "      <th>category</th>\n",
       "      <th>title</th>\n",
       "      <th>description</th>\n",
       "      <th>views</th>\n",
       "      <th>likes</th>\n",
       "      <th>comments</th>\n",
       "      <th>publishedAt</th>\n",
       "    </tr>\n",
       "  </thead>\n",
       "  <tbody>\n",
       "    <tr>\n",
       "      <th>0</th>\n",
       "      <td>Music</td>\n",
       "      <td>GloRilla - WHATCHU KNO ABOUT ME ft. Sexyy Red ...</td>\n",
       "      <td>Stream “GLORIOUS” Out Everywhere: https://glor...</td>\n",
       "      <td>1884034</td>\n",
       "      <td>101986</td>\n",
       "      <td>5838</td>\n",
       "      <td>2024-10-11T04:00:06Z</td>\n",
       "    </tr>\n",
       "    <tr>\n",
       "      <th>1</th>\n",
       "      <td>Music</td>\n",
       "      <td>Rod Wave - 25 (Official Audio)</td>\n",
       "      <td>Listen To Rod Wave's New Album \"Last Lap\"\\nhtt...</td>\n",
       "      <td>949607</td>\n",
       "      <td>41161</td>\n",
       "      <td>1492</td>\n",
       "      <td>2024-10-11T04:00:22Z</td>\n",
       "    </tr>\n",
       "    <tr>\n",
       "      <th>2</th>\n",
       "      <td>Music</td>\n",
       "      <td>KSI - Thick Of It (feat. Trippie Redd) [Offici...</td>\n",
       "      <td>KSI - Thick Of It (feat. Trippie Redd) [Offici...</td>\n",
       "      <td>18118965</td>\n",
       "      <td>420607</td>\n",
       "      <td>265061</td>\n",
       "      <td>2024-10-03T19:00:06Z</td>\n",
       "    </tr>\n",
       "    <tr>\n",
       "      <th>3</th>\n",
       "      <td>Music</td>\n",
       "      <td>Rod Wave - Last Lap (Official Audio)</td>\n",
       "      <td>Listen To Rod Wave's New Album \"Last Lap\"\\nhtt...</td>\n",
       "      <td>832136</td>\n",
       "      <td>40829</td>\n",
       "      <td>2545</td>\n",
       "      <td>2024-10-11T04:00:36Z</td>\n",
       "    </tr>\n",
       "    <tr>\n",
       "      <th>4</th>\n",
       "      <td>Music</td>\n",
       "      <td>Rod Wave - Angel With An Attitude (Official Au...</td>\n",
       "      <td>Listen To Rod Wave's New Album \"Last Lap\"\\nhtt...</td>\n",
       "      <td>768887</td>\n",
       "      <td>37469</td>\n",
       "      <td>2218</td>\n",
       "      <td>2024-10-11T04:00:46Z</td>\n",
       "    </tr>\n",
       "  </tbody>\n",
       "</table>\n",
       "</div>"
      ],
      "text/plain": [
       "  category                                              title  \\\n",
       "0    Music  GloRilla - WHATCHU KNO ABOUT ME ft. Sexyy Red ...   \n",
       "1    Music                     Rod Wave - 25 (Official Audio)   \n",
       "2    Music  KSI - Thick Of It (feat. Trippie Redd) [Offici...   \n",
       "3    Music               Rod Wave - Last Lap (Official Audio)   \n",
       "4    Music  Rod Wave - Angel With An Attitude (Official Au...   \n",
       "\n",
       "                                         description     views   likes  \\\n",
       "0  Stream “GLORIOUS” Out Everywhere: https://glor...   1884034  101986   \n",
       "1  Listen To Rod Wave's New Album \"Last Lap\"\\nhtt...    949607   41161   \n",
       "2  KSI - Thick Of It (feat. Trippie Redd) [Offici...  18118965  420607   \n",
       "3  Listen To Rod Wave's New Album \"Last Lap\"\\nhtt...    832136   40829   \n",
       "4  Listen To Rod Wave's New Album \"Last Lap\"\\nhtt...    768887   37469   \n",
       "\n",
       "   comments           publishedAt  \n",
       "0      5838  2024-10-11T04:00:06Z  \n",
       "1      1492  2024-10-11T04:00:22Z  \n",
       "2    265061  2024-10-03T19:00:06Z  \n",
       "3      2545  2024-10-11T04:00:36Z  \n",
       "4      2218  2024-10-11T04:00:46Z  "
      ]
     },
     "execution_count": 24,
     "metadata": {},
     "output_type": "execute_result"
    }
   ],
   "source": [
    "df1.head()"
   ]
  },
  {
   "cell_type": "code",
   "execution_count": 31,
   "id": "44e93ce5-e32f-4346-9ed3-9761d4634805",
   "metadata": {},
   "outputs": [
    {
     "data": {
      "text/plain": [
       "(40, 7)"
      ]
     },
     "execution_count": 31,
     "metadata": {},
     "output_type": "execute_result"
    }
   ],
   "source": [
    "df1.shape"
   ]
  },
  {
   "cell_type": "code",
   "execution_count": 29,
   "id": "98d22c9f-1c8f-40af-9616-882bd3d52a7d",
   "metadata": {},
   "outputs": [
    {
     "data": {
      "text/plain": [
       "(5, 7)"
      ]
     },
     "execution_count": 29,
     "metadata": {},
     "output_type": "execute_result"
    }
   ],
   "source": [
    "df.shape\n"
   ]
  },
  {
   "cell_type": "code",
   "execution_count": null,
   "id": "9ee77bd1-22d9-411e-b15f-93dbb9b274a0",
   "metadata": {},
   "outputs": [],
   "source": []
  }
 ],
 "metadata": {
  "kernelspec": {
   "display_name": "Python 3 (ipykernel)",
   "language": "python",
   "name": "python3"
  },
  "language_info": {
   "codemirror_mode": {
    "name": "ipython",
    "version": 3
   },
   "file_extension": ".py",
   "mimetype": "text/x-python",
   "name": "python",
   "nbconvert_exporter": "python",
   "pygments_lexer": "ipython3",
   "version": "3.12.2"
  }
 },
 "nbformat": 4,
 "nbformat_minor": 5
}
